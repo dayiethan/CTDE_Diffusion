{
 "cells": [
  {
   "cell_type": "code",
   "execution_count": 1,
   "id": "1557f779",
   "metadata": {},
   "outputs": [],
   "source": [
    "import numpy as np"
   ]
  },
  {
   "cell_type": "code",
   "execution_count": 2,
   "id": "a354860a",
   "metadata": {},
   "outputs": [],
   "source": [
    "y_val = np.linspace(-0.08, 0.34, 10)\n",
    "object_position_0 = [0.342, y_val[0], 0.03, 176.37, 1.04, 175.96]\n",
    "object_position_1 = [0.342, y_val[1], 0.03, 176.37, 1.04, 175.96]\n",
    "object_position_2 = [0.342, y_val[2], 0.03, 176.37, 1.04, 175.96]\n",
    "object_position_3 = [0.342, y_val[3], 0.03, 176.37, 1.04, 175.96]\n",
    "object_position_4 = [0.342, y_val[4], 0.03, 176.37, 1.04, 175.96]\n",
    "object_position_5 = [0.342, y_val[5], 0.03, 176.37, 1.04, 175.96]\n",
    "object_position_6 = [0.342, y_val[6], 0.03, 176.37, 1.04, 175.96]\n",
    "object_position_7 = [0.342, y_val[7], 0.03, 176.37, 1.04, 175.96]\n",
    "object_position_8 = [0.342, y_val[8], 0.03, 176.37, 1.04, 175.96]\n",
    "object_position_9 = [0.342, y_val[9], 0.03, 176.37, 1.04, 175.96]\n",
    "intermediate_position = [0.419, 0.106, 0.237, 175.84, -0.094, 176.09]\n",
    "dropoff_position = [0.596, 0.093, 0.23, 175.90, -0.241, 176.13]"
   ]
  },
  {
   "cell_type": "code",
   "execution_count": 3,
   "id": "f760094f",
   "metadata": {},
   "outputs": [],
   "source": [
    "object_positions = [\n",
    "    object_position_0,\n",
    "    object_position_1,\n",
    "    object_position_2,\n",
    "    object_position_3,\n",
    "    object_position_4,\n",
    "    object_position_5,\n",
    "    object_position_6,\n",
    "    object_position_7,\n",
    "    object_position_8,\n",
    "    object_position_9\n",
    "]\n",
    "object_positions = np.array(object_positions)\n"
   ]
  },
  {
   "cell_type": "code",
   "execution_count": 8,
   "id": "3faa390b",
   "metadata": {},
   "outputs": [
    {
     "data": {
      "text/plain": [
       "array([-0.08      , -0.03333333,  0.01333333,  0.06      ,  0.10666667,\n",
       "        0.15333333,  0.2       ,  0.24666667,  0.29333333,  0.34      ])"
      ]
     },
     "execution_count": 8,
     "metadata": {},
     "output_type": "execute_result"
    }
   ],
   "source": [
    "object_positions[:, 1]"
   ]
  },
  {
   "cell_type": "code",
   "execution_count": 9,
   "id": "fd7d8b14",
   "metadata": {},
   "outputs": [],
   "source": [
    "expert_data = []\n",
    "for i in range(10):\n",
    "    data = np.load(\"demos/recording_%i.npy\" % i)\n",
    "    expert_data.append(data)\n",
    "expert_data = np.array(expert_data)\n"
   ]
  },
  {
   "cell_type": "code",
   "execution_count": 21,
   "id": "e8b6ccaf",
   "metadata": {},
   "outputs": [
    {
     "data": {
      "text/plain": [
       "array([ 0.3418237 , -0.07996723,  0.0295197 ])"
      ]
     },
     "execution_count": 21,
     "metadata": {},
     "output_type": "execute_result"
    }
   ],
   "source": [
    "# np.argmin(expert_data[0, :, 2])\n",
    "expert_data[0, 85, :3]"
   ]
  },
  {
   "cell_type": "code",
   "execution_count": 12,
   "id": "ad7d47e1",
   "metadata": {},
   "outputs": [],
   "source": [
    "np.save(\"data/expert_actions.npy\", expert_data)"
   ]
  },
  {
   "cell_type": "code",
   "execution_count": 27,
   "id": "16003785",
   "metadata": {},
   "outputs": [],
   "source": [
    "hammer_positions = []\n",
    "for i in range(10):\n",
    "    idx = np.argmin(expert_data[i, :, 2])\n",
    "    hammer_positions.append(expert_data[i, idx, :3])\n",
    "hammer_positions = np.array(hammer_positions)"
   ]
  },
  {
   "cell_type": "code",
   "execution_count": 28,
   "id": "52b2fa9a",
   "metadata": {},
   "outputs": [
    {
     "data": {
      "text/plain": [
       "array([[ 0.3418237 , -0.07996723,  0.0295197 ],\n",
       "       [ 0.34180659, -0.03330576,  0.02952183],\n",
       "       [ 0.34177101,  0.01335181,  0.02953066],\n",
       "       [ 0.34177741,  0.05998041,  0.0295044 ],\n",
       "       [ 0.34180236,  0.10660422,  0.02951736],\n",
       "       [ 0.34181589,  0.15321629,  0.02953411],\n",
       "       [ 0.34185705,  0.19983071,  0.02950482],\n",
       "       [ 0.34185117,  0.24657273,  0.02950849],\n",
       "       [ 0.34184158,  0.24652727,  0.02952193],\n",
       "       [ 0.3418847 ,  0.29320058,  0.02950581]])"
      ]
     },
     "execution_count": 28,
     "metadata": {},
     "output_type": "execute_result"
    }
   ],
   "source": [
    "hammer_positions"
   ]
  },
  {
   "cell_type": "code",
   "execution_count": 30,
   "id": "7905b967",
   "metadata": {},
   "outputs": [],
   "source": [
    "np.save(\"data/hammer_positions.npy\", hammer_positions)"
   ]
  },
  {
   "cell_type": "code",
   "execution_count": 26,
   "id": "52c92986",
   "metadata": {},
   "outputs": [
    {
     "data": {
      "text/plain": [
       "array([[ 0.342     , -0.08      ,  0.03      ],\n",
       "       [ 0.342     , -0.03333333,  0.03      ],\n",
       "       [ 0.342     ,  0.01333333,  0.03      ],\n",
       "       [ 0.342     ,  0.06      ,  0.03      ],\n",
       "       [ 0.342     ,  0.10666667,  0.03      ],\n",
       "       [ 0.342     ,  0.15333333,  0.03      ],\n",
       "       [ 0.342     ,  0.2       ,  0.03      ],\n",
       "       [ 0.342     ,  0.24666667,  0.03      ],\n",
       "       [ 0.342     ,  0.29333333,  0.03      ],\n",
       "       [ 0.342     ,  0.34      ,  0.03      ]])"
      ]
     },
     "execution_count": 26,
     "metadata": {},
     "output_type": "execute_result"
    }
   ],
   "source": [
    "hammer_positions = []\n",
    "hammer_positions.append(object_position_0[:3])\n",
    "hammer_positions.append(object_position_1[:3])\n",
    "hammer_positions.append(object_position_2[:3])\n",
    "hammer_positions.append(object_position_3[:3])\n",
    "hammer_positions.append(object_position_4[:3])\n",
    "hammer_positions.append(object_position_5[:3])\n",
    "hammer_positions.append(object_position_6[:3])\n",
    "hammer_positions.append(object_position_7[:3])\n",
    "hammer_positions.append(object_position_8[:3])\n",
    "hammer_positions.append(object_position_9[:3])\n",
    "hammer_positions = np.array(hammer_positions)\n",
    "hammer_positions"
   ]
  },
  {
   "cell_type": "code",
   "execution_count": null,
   "id": "0cd7b315",
   "metadata": {},
   "outputs": [],
   "source": []
  }
 ],
 "metadata": {
  "kernelspec": {
   "display_name": "mult_diff",
   "language": "python",
   "name": "python3"
  },
  "language_info": {
   "codemirror_mode": {
    "name": "ipython",
    "version": 3
   },
   "file_extension": ".py",
   "mimetype": "text/x-python",
   "name": "python",
   "nbconvert_exporter": "python",
   "pygments_lexer": "ipython3",
   "version": "3.9.20"
  }
 },
 "nbformat": 4,
 "nbformat_minor": 5
}
