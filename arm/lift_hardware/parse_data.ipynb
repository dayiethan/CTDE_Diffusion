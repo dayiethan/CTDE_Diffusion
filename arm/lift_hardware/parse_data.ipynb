{
 "cells": [
  {
   "cell_type": "code",
   "execution_count": 2,
   "id": "31ca7d10",
   "metadata": {},
   "outputs": [],
   "source": [
    "import numpy as np\n",
    "import matplotlib.pyplot as plt\n",
    "from transform_utils import quat_to_rotvec"
   ]
  },
  {
   "cell_type": "code",
   "execution_count": 3,
   "id": "d4d34a85",
   "metadata": {},
   "outputs": [],
   "source": [
    "data = np.load(\"rollouts/mode1_xarmclose/episode_1.pkl\", \"rb\", allow_pickle=True)"
   ]
  },
  {
   "cell_type": "code",
   "execution_count": 4,
   "id": "3abd8323",
   "metadata": {},
   "outputs": [
    {
     "data": {
      "text/plain": [
       "(4933, 17)"
      ]
     },
     "execution_count": 4,
     "metadata": {},
     "output_type": "execute_result"
    }
   ],
   "source": [
    "np.shape(data)"
   ]
  },
  {
   "cell_type": "code",
   "execution_count": 5,
   "id": "9b6e8315",
   "metadata": {},
   "outputs": [
    {
     "name": "stdout",
     "output_type": "stream",
     "text": [
      "(494, 17)\n"
     ]
    }
   ],
   "source": [
    "sparse_data = data[::10, :]\n",
    "print(np.shape(sparse_data))"
   ]
  },
  {
   "cell_type": "code",
   "execution_count": 6,
   "id": "89a004e1",
   "metadata": {},
   "outputs": [],
   "source": [
    "from scipy.spatial.transform import Rotation as R\n",
    "\n",
    "def quaternions_to_rotvecs(data: np.ndarray) -> np.ndarray:\n",
    "    if data.ndim != 2 or data.shape[1] != 17:\n",
    "        raise ValueError(f\"Expected input shape (N,17), got {data.shape}\")\n",
    "\n",
    "    # Extract the two quaternion blocks: each is shape (N, 4) in (w, x, y, z) order.\n",
    "    q1 = data[:, 3:7]    # columns 3–6\n",
    "    q2 = data[:, 11:15]  # columns 12–15\n",
    "    rpy = R.from_quat(q2).as_rotvec()\n",
    "\n",
    "    # Build Rotation objects and convert to rotation vectors\n",
    "    rot1 = R.from_quat(q1).as_rotvec()  # shape (N, 3)\n",
    "    rot2 = R.from_euler('xyz', rpy).as_rotvec()  # shape (N, 3)\n",
    "\n",
    "    out = np.concatenate([\n",
    "        data[:, 0:3],     # kinova position\n",
    "        rot1,             # kinova rotation vector\n",
    "        data[:, 7:8],     # kinova gripper\n",
    "        data[:, 8:11],    # xarm position\n",
    "        rot2,             # xarm rotation vector\n",
    "        data[:, 15:16],   # xarm gripper\n",
    "    ], axis=1)\n",
    "\n",
    "    # Verify result has shape (N, 15)\n",
    "    assert out.shape[1] == 14, f\"Output has wrong shape {out.shape}\"\n",
    "    return out\n"
   ]
  },
  {
   "cell_type": "code",
   "execution_count": null,
   "id": "622c6c8b",
   "metadata": {},
   "outputs": [
    {
     "name": "stdout",
     "output_type": "stream",
     "text": [
      "67\n",
      "440\n",
      "998\n",
      "755\n",
      "497\n",
      "226\n",
      "86\n",
      "621\n",
      "393\n",
      "500\n"
     ]
    }
   ],
   "source": [
    "mode1_list = []\n",
    "mode1_lens = []\n",
    "for i in range(14):\n",
    "    try:\n",
    "        data = np.load(\"rollouts/mode1_xarmclose/episode_{}.pkl\".format(i), \"rb\", allow_pickle=True)\n",
    "        data = quaternions_to_rotvecs(data)\n",
    "        pad_num = 5000 - len(data)\n",
    "        print(pad_num)\n",
    "        for _ in range(pad_num):\n",
    "            data = np.vstack([data, data[-1]])\n",
    "        mode1_list.append(data)\n",
    "        mode1_lens.append(len(data))\n",
    "    except FileNotFoundError:\n",
    "        pass"
   ]
  },
  {
   "cell_type": "code",
   "execution_count": 8,
   "id": "821f135e",
   "metadata": {},
   "outputs": [
    {
     "name": "stdout",
     "output_type": "stream",
     "text": [
      "6\n",
      "44\n",
      "99\n",
      "75\n",
      "49\n",
      "22\n",
      "8\n",
      "62\n",
      "39\n",
      "50\n"
     ]
    }
   ],
   "source": [
    "mode1_sparse_list = []\n",
    "mode1_sparse_lens = []\n",
    "for i in range(14):\n",
    "    try:\n",
    "        data = np.load(\"rollouts/mode1_xarmclose/episode_{}.pkl\".format(i), \"rb\", allow_pickle=True)\n",
    "        data = data[::10, :]\n",
    "        data = quaternions_to_rotvecs(data)\n",
    "        pad_num = 500 - len(data)\n",
    "        print(pad_num)\n",
    "        for _ in range(pad_num):\n",
    "            data = np.vstack([data, data[-1]])\n",
    "        mode1_sparse_list.append(data)\n",
    "        mode1_sparse_lens.append(len(data))\n",
    "    except FileNotFoundError:\n",
    "        pass"
   ]
  },
  {
   "cell_type": "code",
   "execution_count": 9,
   "id": "8481152b",
   "metadata": {},
   "outputs": [
    {
     "name": "stdout",
     "output_type": "stream",
     "text": [
      "Number of mode 1 episodes: 10\n",
      "Mode 1 lengths: [5000, 5000, 5000, 5000, 5000, 5000, 5000, 5000, 5000, 5000]\n",
      "Mode 1 longest episode length: 5000\n"
     ]
    }
   ],
   "source": [
    "print(\"Number of mode 1 episodes:\", len(mode1_list))\n",
    "print(\"Mode 1 lengths:\", mode1_lens)\n",
    "print(\"Mode 1 longest episode length:\", max(mode1_lens))"
   ]
  },
  {
   "cell_type": "code",
   "execution_count": 9,
   "id": "85e42f60",
   "metadata": {},
   "outputs": [
    {
     "name": "stdout",
     "output_type": "stream",
     "text": [
      "Number of mode 1 episodes: 10\n",
      "Mode 1 lengths: [500, 500, 500, 500, 500, 500, 500, 500, 500, 500]\n",
      "Mode 1 longest episode length: 500\n"
     ]
    }
   ],
   "source": [
    "print(\"Number of mode 1 episodes:\", len(mode1_sparse_list))\n",
    "print(\"Mode 1 lengths:\", mode1_sparse_lens)\n",
    "print(\"Mode 1 longest episode length:\", max(mode1_sparse_lens))"
   ]
  },
  {
   "cell_type": "code",
   "execution_count": 10,
   "id": "7850a602",
   "metadata": {},
   "outputs": [
    {
     "name": "stdout",
     "output_type": "stream",
     "text": [
      "749\n",
      "595\n",
      "353\n",
      "340\n",
      "719\n",
      "385\n",
      "381\n",
      "626\n",
      "329\n",
      "575\n"
     ]
    }
   ],
   "source": [
    "mode2_list = []\n",
    "mode2_lens = []\n",
    "for i in range(11):\n",
    "    try:\n",
    "        data = np.load(\"rollouts/mode2_kinovaclose/episode_{}.pkl\".format(i), \"rb\", allow_pickle=True)\n",
    "        data = quaternions_to_rotvecs(data)\n",
    "        pad_num = 5000 - len(data)\n",
    "        print(pad_num)\n",
    "        for _ in range(pad_num):\n",
    "            data = np.vstack([data, data[-1]])\n",
    "        mode2_list.append(data)\n",
    "        mode2_lens.append(len(data))\n",
    "    except FileNotFoundError:\n",
    "        pass"
   ]
  },
  {
   "cell_type": "code",
   "execution_count": 12,
   "id": "110deb2d",
   "metadata": {},
   "outputs": [
    {
     "name": "stdout",
     "output_type": "stream",
     "text": [
      "74\n",
      "59\n",
      "35\n",
      "34\n",
      "71\n",
      "38\n",
      "38\n",
      "62\n",
      "32\n",
      "57\n"
     ]
    }
   ],
   "source": [
    "mode2_sparse_list = []\n",
    "mode2_sparse_lens = []\n",
    "for i in range(11):\n",
    "    try:\n",
    "        data = np.load(\"rollouts/mode2_kinovaclose/episode_{}.pkl\".format(i), \"rb\", allow_pickle=True)\n",
    "        data = data[::10, :]\n",
    "        data = quaternions_to_rotvecs(data)\n",
    "        pad_num = 500 - len(data)\n",
    "        print(pad_num)\n",
    "        for _ in range(pad_num):\n",
    "            data = np.vstack([data, data[-1]])\n",
    "        mode2_sparse_list.append(data)\n",
    "        mode2_sparse_lens.append(len(data))\n",
    "    except FileNotFoundError:\n",
    "        pass"
   ]
  },
  {
   "cell_type": "code",
   "execution_count": 11,
   "id": "b9c36e75",
   "metadata": {},
   "outputs": [
    {
     "name": "stdout",
     "output_type": "stream",
     "text": [
      "Number of mode 2 episodes: 10\n",
      "Mode 2 lengths: [5000, 5000, 5000, 5000, 5000, 5000, 5000, 5000, 5000, 5000]\n",
      "Mode 2 longest episode length: 5000\n"
     ]
    }
   ],
   "source": [
    "print(\"Number of mode 2 episodes:\", len(mode2_list))\n",
    "print(\"Mode 2 lengths:\", mode2_lens)\n",
    "print(\"Mode 2 longest episode length:\", max(mode2_lens))"
   ]
  },
  {
   "cell_type": "code",
   "execution_count": 13,
   "id": "5da04940",
   "metadata": {},
   "outputs": [
    {
     "name": "stdout",
     "output_type": "stream",
     "text": [
      "Number of mode 2 episodes: 10\n",
      "Mode 2 lengths: [500, 500, 500, 500, 500, 500, 500, 500, 500, 500]\n",
      "Mode 2 longest episode length: 500\n"
     ]
    }
   ],
   "source": [
    "print(\"Number of mode 2 episodes:\", len(mode2_sparse_list))\n",
    "print(\"Mode 2 lengths:\", mode2_sparse_lens)\n",
    "print(\"Mode 2 longest episode length:\", max(mode2_sparse_lens))"
   ]
  },
  {
   "cell_type": "code",
   "execution_count": 12,
   "id": "b0dcef98",
   "metadata": {},
   "outputs": [
    {
     "name": "stdout",
     "output_type": "stream",
     "text": [
      "315\n",
      "288\n",
      "729\n",
      "606\n",
      "708\n",
      "394\n",
      "178\n",
      "671\n",
      "318\n",
      "636\n"
     ]
    }
   ],
   "source": [
    "mode3_list = []\n",
    "mode3_lens = []\n",
    "for i in range(11):\n",
    "    try:\n",
    "        data = np.load(\"rollouts/mode3_over/episode_{}.pkl\".format(i), \"rb\", allow_pickle=True)\n",
    "        data = quaternions_to_rotvecs(data)\n",
    "        pad_num = 5000 - len(data)\n",
    "        print(pad_num)\n",
    "        for _ in range(pad_num):\n",
    "            data = np.vstack([data, data[-1]])\n",
    "        mode3_list.append(data)\n",
    "        mode3_lens.append(len(data))\n",
    "    except FileNotFoundError:\n",
    "        pass"
   ]
  },
  {
   "cell_type": "code",
   "execution_count": 14,
   "id": "5f62c45c",
   "metadata": {},
   "outputs": [
    {
     "name": "stdout",
     "output_type": "stream",
     "text": [
      "31\n",
      "28\n",
      "72\n",
      "60\n",
      "70\n",
      "39\n",
      "17\n",
      "67\n",
      "31\n",
      "63\n"
     ]
    }
   ],
   "source": [
    "mode3_sparse_list = []\n",
    "mode3_sparse_lens = []\n",
    "for i in range(11):\n",
    "    try:\n",
    "        data = np.load(\"rollouts/mode3_over/episode_{}.pkl\".format(i), \"rb\", allow_pickle=True)\n",
    "        data = quaternions_to_rotvecs(data)\n",
    "        data = data[::10, :]\n",
    "        pad_num = 500 - len(data)\n",
    "        print(pad_num)\n",
    "        for _ in range(pad_num):\n",
    "            data = np.vstack([data, data[-1]])\n",
    "        mode3_sparse_list.append(data)\n",
    "        mode3_sparse_lens.append(len(data))\n",
    "    except FileNotFoundError:\n",
    "        pass"
   ]
  },
  {
   "cell_type": "code",
   "execution_count": 13,
   "id": "b8b47d97",
   "metadata": {},
   "outputs": [
    {
     "name": "stdout",
     "output_type": "stream",
     "text": [
      "Number of mode 3 episodes: 10\n",
      "Mode 3 lengths: [5000, 5000, 5000, 5000, 5000, 5000, 5000, 5000, 5000, 5000]\n",
      "Mode 3 longest episode length: 5000\n"
     ]
    }
   ],
   "source": [
    "print(\"Number of mode 3 episodes:\", len(mode3_list))\n",
    "print(\"Mode 3 lengths:\", mode3_lens)\n",
    "print(\"Mode 3 longest episode length:\", max(mode3_lens))"
   ]
  },
  {
   "cell_type": "code",
   "execution_count": 15,
   "id": "6cf3df3d",
   "metadata": {},
   "outputs": [
    {
     "name": "stdout",
     "output_type": "stream",
     "text": [
      "Number of mode 3 episodes: 10\n",
      "Mode 3 lengths: [500, 500, 500, 500, 500, 500, 500, 500, 500, 500]\n",
      "Mode 3 longest episode length: 500\n"
     ]
    }
   ],
   "source": [
    "print(\"Number of mode 3 episodes:\", len(mode3_sparse_list))\n",
    "print(\"Mode 3 lengths:\", mode3_sparse_lens)\n",
    "print(\"Mode 3 longest episode length:\", max(mode3_sparse_lens))"
   ]
  },
  {
   "cell_type": "code",
   "execution_count": 14,
   "id": "6b811516",
   "metadata": {},
   "outputs": [
    {
     "data": {
      "text/plain": [
       "(5000, 14)"
      ]
     },
     "execution_count": 14,
     "metadata": {},
     "output_type": "execute_result"
    }
   ],
   "source": [
    "np.shape(mode1_list[0])"
   ]
  },
  {
   "cell_type": "code",
   "execution_count": 16,
   "id": "1cfa50ef",
   "metadata": {},
   "outputs": [
    {
     "data": {
      "text/plain": [
       "(500, 14)"
      ]
     },
     "execution_count": 16,
     "metadata": {},
     "output_type": "execute_result"
    }
   ],
   "source": [
    "np.shape(mode1_sparse_list[0])"
   ]
  },
  {
   "cell_type": "code",
   "execution_count": 15,
   "id": "77ff6b66",
   "metadata": {},
   "outputs": [],
   "source": [
    "mode1 = np.array(mode1_list)\n",
    "mode2 = np.array(mode2_list)\n",
    "mode3 = np.array(mode3_list)"
   ]
  },
  {
   "cell_type": "code",
   "execution_count": 17,
   "id": "13b246de",
   "metadata": {},
   "outputs": [],
   "source": [
    "mode1_sparse = np.array(mode1_sparse_list)\n",
    "mode2_sparse = np.array(mode2_sparse_list)\n",
    "mode3_sparse = np.array(mode3_sparse_list)"
   ]
  },
  {
   "cell_type": "code",
   "execution_count": 16,
   "id": "a21cefd0",
   "metadata": {},
   "outputs": [
    {
     "data": {
      "text/plain": [
       "(10, 5000, 14)"
      ]
     },
     "execution_count": 16,
     "metadata": {},
     "output_type": "execute_result"
    }
   ],
   "source": [
    "np.shape(mode1)"
   ]
  },
  {
   "cell_type": "code",
   "execution_count": 18,
   "id": "abd67233",
   "metadata": {},
   "outputs": [
    {
     "data": {
      "text/plain": [
       "(10, 500, 14)"
      ]
     },
     "execution_count": 18,
     "metadata": {},
     "output_type": "execute_result"
    }
   ],
   "source": [
    "np.shape(mode1_sparse)"
   ]
  },
  {
   "cell_type": "code",
   "execution_count": 17,
   "id": "21d6cd32",
   "metadata": {},
   "outputs": [
    {
     "name": "stdout",
     "output_type": "stream",
     "text": [
      "(20, 5000, 14)\n"
     ]
    }
   ],
   "source": [
    "expert_states = np.concatenate([mode1, mode2], axis=0)\n",
    "print(np.shape(expert_states))"
   ]
  },
  {
   "cell_type": "code",
   "execution_count": 19,
   "id": "531f6d38",
   "metadata": {},
   "outputs": [
    {
     "name": "stdout",
     "output_type": "stream",
     "text": [
      "(20, 500, 14)\n"
     ]
    }
   ],
   "source": [
    "expert_states_sparse = np.concatenate([mode1_sparse, mode2_sparse], axis=0)\n",
    "print(np.shape(expert_states_sparse))"
   ]
  },
  {
   "cell_type": "code",
   "execution_count": 20,
   "id": "c776b12d",
   "metadata": {},
   "outputs": [
    {
     "data": {
      "image/png": "[encoded data removed]",
      "text/plain": [
       "<Figure size 640x480 with 1 Axes>"
      ]
     },
     "metadata": {},
     "output_type": "display_data"
    }
   ],
   "source": [
    "from mpl_toolkits.mplot3d import Axes3D\n",
    "\n",
    "def plot_trajectories(arr: np.ndarray, i: int):\n",
    "    \"\"\"\n",
    "    Plots arr[i, :, :3] and arr[i, :, 7:10] in 3D.\n",
    "\n",
    "    Parameters\n",
    "    ----------\n",
    "    arr : ndarray\n",
    "        Array of shape (20, 5000, 14).\n",
    "    i : int\n",
    "        Which of the 20 trajectories to plot.\n",
    "    \"\"\"\n",
    "    # Extract the two 3D trajectories\n",
    "    x1, y1, z1 = arr[i, :, 0], arr[i, :, 1], arr[i, :, 2]\n",
    "    x2, y2, z2 = arr[i, :, 7], arr[i, :, 8], arr[i, :, 9]\n",
    "\n",
    "    fig = plt.figure()\n",
    "    ax = fig.add_subplot(111, projection='3d')\n",
    "    ax.plot(x1, y1, z1)\n",
    "    ax.plot(x2, y2, z2)\n",
    "    ax.set_xlabel('X')\n",
    "    ax.set_ylabel('Y')\n",
    "    ax.set_zlabel('Z')\n",
    "    ax.set_title(f'3D Trajectories for index = {i}')\n",
    "    plt.show()\n",
    "\n",
    "# Example: change `i` below to plot a different sample\n",
    "plot_trajectories(expert_states_sparse, i=2)"
   ]
  },
  {
   "cell_type": "code",
   "execution_count": 18,
   "id": "19277b39",
   "metadata": {},
   "outputs": [],
   "source": [
    "np.save(\"data/expert_actions_rotvec.npy\", expert_states)"
   ]
  },
  {
   "cell_type": "code",
   "execution_count": 21,
   "id": "9d3af59b",
   "metadata": {},
   "outputs": [],
   "source": [
    "np.save(\"data/expert_actions_rotvec_sparse.npy\", expert_states_sparse)"
   ]
  },
  {
   "cell_type": "code",
   "execution_count": 21,
   "id": "e79bf992",
   "metadata": {},
   "outputs": [],
   "source": [
    "pot_states1 = []\n",
    "pot_states2 = []\n",
    "\n",
    "for traj in mode1:\n",
    "    diff_mask = np.abs(traj[:, 6] - traj[0, 6]) > 0.001\n",
    "    changed_indices = np.nonzero(diff_mask)[0]\n",
    "    desired_idx = None\n",
    "    for idx in changed_indices:\n",
    "        if idx > 0:\n",
    "            desired_idx = idx\n",
    "            break\n",
    "    pot_states1.append(traj[desired_idx, :3])\n",
    "\n",
    "    diff_mask = np.abs(traj[:, 13] - traj[0, 13]) > 0.001\n",
    "    changed_indices = np.nonzero(diff_mask)[0]\n",
    "    desired_idx = None\n",
    "    for idx in changed_indices:\n",
    "        if idx > 0:\n",
    "            desired_idx = idx\n",
    "            break\n",
    "    pot_states2.append(traj[desired_idx, 7:10])\n",
    "\n",
    "for traj in mode2:\n",
    "    diff_mask = np.abs(traj[:, 6] - traj[0, 6]) > 0.001\n",
    "    changed_indices = np.nonzero(diff_mask)[0]\n",
    "    desired_idx = None\n",
    "    for idx in changed_indices:\n",
    "        if idx > 0:\n",
    "            desired_idx = idx\n",
    "            break\n",
    "    pot_states1.append(traj[desired_idx, :3])\n",
    "\n",
    "    diff_mask = np.abs(traj[:, 13] - traj[0, 13]) > 0.001\n",
    "    changed_indices = np.nonzero(diff_mask)[0]\n",
    "    desired_idx = None\n",
    "    for idx in changed_indices:\n",
    "        if idx > 0:\n",
    "            desired_idx = idx\n",
    "            break\n",
    "    pot_states2.append(traj[desired_idx, 7:10])\n"
   ]
  },
  {
   "cell_type": "code",
   "execution_count": 22,
   "id": "4e4d3a43",
   "metadata": {},
   "outputs": [
    {
     "data": {
      "text/plain": [
       "(20, 3)"
      ]
     },
     "execution_count": 22,
     "metadata": {},
     "output_type": "execute_result"
    }
   ],
   "source": [
    "np.shape(pot_states2)"
   ]
  },
  {
   "cell_type": "code",
   "execution_count": 23,
   "id": "facbacb9",
   "metadata": {},
   "outputs": [],
   "source": [
    "pot_states1 = np.array(pot_states1)\n",
    "pot_states2 = np.array(pot_states2)"
   ]
  },
  {
   "cell_type": "code",
   "execution_count": 24,
   "id": "d545ef6c",
   "metadata": {},
   "outputs": [
    {
     "data": {
      "text/plain": [
       "(20, 3)"
      ]
     },
     "execution_count": 24,
     "metadata": {},
     "output_type": "execute_result"
    }
   ],
   "source": [
    "np.shape(pot_states1)"
   ]
  },
  {
   "cell_type": "code",
   "execution_count": 25,
   "id": "e12f4d9f",
   "metadata": {},
   "outputs": [
    {
     "name": "stdout",
     "output_type": "stream",
     "text": [
      "(20, 6)\n"
     ]
    }
   ],
   "source": [
    "pot_states = np.hstack([pot_states1, pot_states2])\n",
    "print(np.shape(pot_states))"
   ]
  },
  {
   "cell_type": "code",
   "execution_count": 26,
   "id": "280f24e5",
   "metadata": {},
   "outputs": [
    {
     "name": "stdout",
     "output_type": "stream",
     "text": [
      "[0.5027082  0.03255719 0.07587283 0.21787251 0.00485628 0.06141626]\n",
      "[0.5027082  0.03255719 0.07587283]\n",
      "[0.21787251 0.00485628 0.06141626]\n"
     ]
    }
   ],
   "source": [
    "print(pot_states[0])\n",
    "print(pot_states1[0])\n",
    "print(pot_states2[0])"
   ]
  },
  {
   "cell_type": "code",
   "execution_count": 27,
   "id": "05d0093c",
   "metadata": {},
   "outputs": [],
   "source": [
    "np.save(\"data/pot_states1.npy\", pot_states1)\n",
    "np.save(\"data/pot_states2.npy\", pot_states2)\n",
    "np.save(\"data/pot_states.npy\", pot_states)"
   ]
  },
  {
   "cell_type": "code",
   "execution_count": null,
   "id": "bbd2774e",
   "metadata": {},
   "outputs": [],
   "source": []
  }
 ],
 "metadata": {
  "kernelspec": {
   "display_name": "mult_diff",
   "language": "python",
   "name": "python3"
  },
  "language_info": {
   "codemirror_mode": {
    "name": "ipython",
    "version": 3
   },
   "file_extension": ".py",
   "mimetype": "text/x-python",
   "name": "python",
   "nbconvert_exporter": "python",
   "pygments_lexer": "ipython3",
   "version": "3.9.20"
  }
 },
 "nbformat": 4,
 "nbformat_minor": 5
}
